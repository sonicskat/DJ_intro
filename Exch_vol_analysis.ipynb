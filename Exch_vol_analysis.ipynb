{
  "nbformat": 4,
  "nbformat_minor": 0,
  "metadata": {
    "colab": {
      "name": "Exch_vol_analysis.ipynb",
      "provenance": [],
      "collapsed_sections": [],
      "include_colab_link": true
    },
    "kernelspec": {
      "name": "python3",
      "display_name": "Python 3"
    }
  },
  "cells": [
    {
      "cell_type": "markdown",
      "metadata": {
        "id": "view-in-github",
        "colab_type": "text"
      },
      "source": [
        "<a href=\"https://colab.research.google.com/github/sonicskat/DJ_intro/blob/master/Exch_vol_analysis.ipynb\" target=\"_parent\"><img src=\"https://colab.research.google.com/assets/colab-badge.svg\" alt=\"Open In Colab\"/></a>"
      ]
    },
    {
      "cell_type": "markdown",
      "metadata": {
        "id": "8d4SdM1WOxMY",
        "colab_type": "text"
      },
      "source": [
        "#Measuring Hedge Market Liquidity by Venue\n",
        "\n",
        "##*Mike Koslow*\n",
        "#####November 2, 2019\n",
        "--------------"
      ]
    },
    {
      "cell_type": "markdown",
      "metadata": {
        "id": "NZzkY1TRPMPW",
        "colab_type": "text"
      },
      "source": [
        "####**1. Install packages**\n"
      ]
    },
    {
      "cell_type": "code",
      "metadata": {
        "id": "nr86Hgi2XrUW",
        "colab_type": "code",
        "colab": {
          "base_uri": "https://localhost:8080/",
          "height": 377
        },
        "outputId": "3a35454d-003d-41f8-dee3-728e12bb4fea"
      },
      "source": [
        "#Install necessary modules and import packages as necessary\n",
        " \n",
        "!pip install ccxt;  #Package used for pulling digital asset data\n",
        "import ccxt;\n",
        "import pandas as pd;\n",
        "import matplotlib.pyplot as plt;\n",
        "import numpy as np;"
      ],
      "execution_count": 11,
      "outputs": [
        {
          "output_type": "stream",
          "text": [
            "Requirement already satisfied: ccxt in /usr/local/lib/python3.6/dist-packages (1.19.9)\n",
            "Requirement already satisfied: setuptools>=38.5.1 in /usr/local/lib/python3.6/dist-packages (from ccxt) (41.4.0)\n",
            "Requirement already satisfied: cryptography>=2.6.1 in /usr/local/lib/python3.6/dist-packages (from ccxt) (2.8)\n",
            "Requirement already satisfied: requests>=2.18.4 in /usr/local/lib/python3.6/dist-packages (from ccxt) (2.21.0)\n",
            "Requirement already satisfied: yarl==1.1.0; python_version >= \"3.5.2\" in /usr/local/lib/python3.6/dist-packages (from ccxt) (1.1.0)\n",
            "Requirement already satisfied: aiohttp==3.6.2; python_version >= \"3.5.2\" in /usr/local/lib/python3.6/dist-packages (from ccxt) (3.6.2)\n",
            "Requirement already satisfied: aiodns==1.1.1; python_version >= \"3.5.2\" in /usr/local/lib/python3.6/dist-packages (from ccxt) (1.1.1)\n",
            "Requirement already satisfied: certifi>=2018.1.18 in /usr/local/lib/python3.6/dist-packages (from ccxt) (2019.9.11)\n",
            "Requirement already satisfied: cffi!=1.11.3,>=1.8 in /usr/local/lib/python3.6/dist-packages (from cryptography>=2.6.1->ccxt) (1.13.1)\n",
            "Requirement already satisfied: six>=1.4.1 in /usr/local/lib/python3.6/dist-packages (from cryptography>=2.6.1->ccxt) (1.12.0)\n",
            "Requirement already satisfied: urllib3<1.25,>=1.21.1 in /usr/local/lib/python3.6/dist-packages (from requests>=2.18.4->ccxt) (1.24.3)\n",
            "Requirement already satisfied: chardet<3.1.0,>=3.0.2 in /usr/local/lib/python3.6/dist-packages (from requests>=2.18.4->ccxt) (3.0.4)\n",
            "Requirement already satisfied: idna<2.9,>=2.5 in /usr/local/lib/python3.6/dist-packages (from requests>=2.18.4->ccxt) (2.8)\n",
            "Requirement already satisfied: multidict>=4.0 in /usr/local/lib/python3.6/dist-packages (from yarl==1.1.0; python_version >= \"3.5.2\"->ccxt) (4.5.2)\n",
            "Requirement already satisfied: async-timeout<4.0,>=3.0 in /usr/local/lib/python3.6/dist-packages (from aiohttp==3.6.2; python_version >= \"3.5.2\"->ccxt) (3.0.1)\n",
            "Requirement already satisfied: idna-ssl>=1.0; python_version < \"3.7\" in /usr/local/lib/python3.6/dist-packages (from aiohttp==3.6.2; python_version >= \"3.5.2\"->ccxt) (1.1.0)\n",
            "Requirement already satisfied: attrs>=17.3.0 in /usr/local/lib/python3.6/dist-packages (from aiohttp==3.6.2; python_version >= \"3.5.2\"->ccxt) (19.3.0)\n",
            "Requirement already satisfied: typing-extensions>=3.6.5; python_version < \"3.7\" in /usr/local/lib/python3.6/dist-packages (from aiohttp==3.6.2; python_version >= \"3.5.2\"->ccxt) (3.6.6)\n",
            "Requirement already satisfied: pycares>=1.0.0 in /usr/local/lib/python3.6/dist-packages (from aiodns==1.1.1; python_version >= \"3.5.2\"->ccxt) (3.0.0)\n",
            "Requirement already satisfied: pycparser in /usr/local/lib/python3.6/dist-packages (from cffi!=1.11.3,>=1.8->cryptography>=2.6.1->ccxt) (2.19)\n"
          ],
          "name": "stdout"
        }
      ]
    },
    {
      "cell_type": "markdown",
      "metadata": {
        "id": "ensY3unZfiQJ",
        "colab_type": "text"
      },
      "source": [
        "####**2. Select product and exchanges for analysis**\n",
        "The following exchanges were chosen based analysis performed by BitWise and presented to the SEC ([link](https://https://www.sec.gov/comments/sr-nysearca-2019-01/srnysearca201901-5164833-183434.pdf), see pg. 227).  It was reduced down to the exchanges where the BTC/USD trading pair is traded and available via ccxt.  (e.g., ccxt does not yet support Coinbase)"
      ]
    },
    {
      "cell_type": "code",
      "metadata": {
        "id": "vVtv-ELNhX7I",
        "colab_type": "code",
        "colab": {}
      },
      "source": [
        "#Sets up exchanges used with ccxt\n",
        "exchange_names=['bitfinex','bittrex','gemini','itbit','kraken']\n",
        "exchanges=[ccxt.bitfinex(),ccxt.bittrex(),ccxt.gemini(),ccxt.itbit(),ccxt.kraken()]\n",
        "base='BTC'\n",
        "quote='USD'\n",
        "symbol=base+r'/'+quote\n"
      ],
      "execution_count": 0,
      "outputs": []
    },
    {
      "cell_type": "markdown",
      "metadata": {
        "id": "Nm6351PnJ4Wz",
        "colab_type": "text"
      },
      "source": [
        "####**3.  Fetch OHLCV data from exchanges**\n",
        "Pulls only close prices for the given frequency.\n",
        " \n",
        " <font color='grey'><font size=2>*Future Enhancement:  Use actual tick trade data, rather than end of period close price.*</font></font>"
      ]
    },
    {
      "cell_type": "code",
      "metadata": {
        "id": "RrCuk2VQqIjN",
        "colab_type": "code",
        "colab": {}
      },
      "source": [
        "exchanges[0].fetch_ohlcv(symbol, timeframe=time_frame, since =exchanges[0].parse8601 (start_dt+'T00:00:00Z') )\n"
      ],
      "execution_count": 0,
      "outputs": []
    },
    {
      "cell_type": "code",
      "metadata": {
        "id": "ET5SQYdEJsCB",
        "colab_type": "code",
        "colab": {}
      },
      "source": [
        "#set up pull parameters\n",
        "start_dt='2019-09-01' #start date for data (using UTC time)\n",
        "time_frame='1m'  #options include 1m': '1minute','1h': '1hour','1d': '1day','1M': '1month','1y': '1year',\n",
        "column_indices = {\"time\":0,\"open\":1,\"high\":2,\"low\":3,\"close\":4,'volume':5}\n",
        "\n",
        "df=[]\n",
        "for idx,name in enumerate(exchanges):\n",
        "  data=pd.DataFrame(name.fetch_ohlcv(symbol, timeframe=time_frame, since =name.parse8601 (start_dt+'T00:00:00Z') ),\n",
        "                    columns=['time','open','high','low','close','volume'])\n",
        "  data.drop(inplace=True,columns=['open','high','low'])\n",
        "  data['datetime']=pd.to_datetime(data.time,unit='ms')\n",
        "  data.set_index('time',inplace=True)\n",
        "  data.columns=[str(col)+'_'+exchange_names[idx] for col in data.columns]\n",
        "\n",
        "  data[:10]\n",
        "\n",
        "\n"
      ],
      "execution_count": 0,
      "outputs": []
    },
    {
      "cell_type": "code",
      "metadata": {
        "id": "OoLeyniJjbGF",
        "colab_type": "code",
        "colab": {}
      },
      "source": [
        "#pull ohlcv data for all exchanges\n",
        "data=pd.DataFrame(exchanges[0].fetch_ohlcv(symbol,'1m',since=exchanges[0].parse8601 ('2019-09-01T00:00:00Z')))\n",
        "#data.rename(columns={0:\"time\",1:\"open\",2:\"high\",3:\"low\",4:\"close\",5:'volume'},inplace=True)\n",
        "#data['exchange']=\n",
        "#data.time=pd.to_datetime(data.time,unit='ms')\n",
        "#data[:10]"
      ],
      "execution_count": 0,
      "outputs": []
    },
    {
      "cell_type": "code",
      "metadata": {
        "id": "UYOJiK45rNci",
        "colab_type": "code",
        "colab": {}
      },
      "source": [
        "binance.symbols"
      ],
      "execution_count": 0,
      "outputs": []
    }
  ]
}